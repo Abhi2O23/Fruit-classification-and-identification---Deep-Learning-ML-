{
 "cells": [
  {
   "cell_type": "code",
   "execution_count": 1,
   "id": "538da217",
   "metadata": {},
   "outputs": [],
   "source": [
    "import numpy as np\n",
    "import tensorflow as tf\n",
    "from tensorflow import keras\n",
    "from tensorflow.keras import layers\n",
    "import pandas as pd\n",
    "import seaborn as sns\n",
    "import matplotlib.pyplot as plt\n",
    "import os\n",
    "\n",
    "from tensorflow.keras.utils import to_categorical\n",
    "from tensorflow.keras.preprocessing.image import load_img, img_to_array\n",
    "from tensorflow.python.keras.preprocessing.image import ImageDataGenerator\n",
    "from sklearn.metrics import classification_report, log_loss, accuracy_score\n",
    "from sklearn.model_selection import train_test_split"
   ]
  },
  {
   "cell_type": "code",
   "execution_count": 3,
   "id": "800d8ca3",
   "metadata": {},
   "outputs": [],
   "source": [
    "\n",
    "directory = \"fruits/train/train\""
   ]
  },
  {
   "cell_type": "code",
   "execution_count": 4,
   "id": "5c4ec273",
   "metadata": {},
   "outputs": [
    {
     "name": "stdout",
     "output_type": "stream",
     "text": [
      "['Apple Braeburn', 'Apple Granny Smith', 'Apricot', 'Avocado', 'Banana', 'Blueberry', 'Cactus fruit', 'Cantaloupe', 'Cherry', 'Clementine', 'Corn', 'Cucumber Ripe', 'Grape Blue', 'Kiwi', 'Lemon', 'Limes', 'Mango', 'Onion White', 'Orange', 'Papaya', 'Passion Fruit', 'Peach', 'Pear', 'Pepper Green', 'Pepper Red', 'Pineapple', 'Plum', 'Pomegranate', 'Potato Red', 'Raspberry', 'Strawberry', 'Tomato', 'Watermelon']\n",
      "33\n"
     ]
    }
   ],
   "source": [
    "Name=[]\n",
    "\n",
    "for file in os.listdir(directory):\n",
    "    Name+=[file]\n",
    "print(Name)\n",
    "print(len(Name))"
   ]
  },
  {
   "cell_type": "code",
   "execution_count": 5,
   "id": "a23df4fb",
   "metadata": {},
   "outputs": [
    {
     "name": "stdout",
     "output_type": "stream",
     "text": [
      "{'Apple Braeburn': 0, 'Apple Granny Smith': 1, 'Apricot': 2, 'Avocado': 3, 'Banana': 4, 'Blueberry': 5, 'Cactus fruit': 6, 'Cantaloupe': 7, 'Cherry': 8, 'Clementine': 9, 'Corn': 10, 'Cucumber Ripe': 11, 'Grape Blue': 12, 'Kiwi': 13, 'Lemon': 14, 'Limes': 15, 'Mango': 16, 'Onion White': 17, 'Orange': 18, 'Papaya': 19, 'Passion Fruit': 20, 'Peach': 21, 'Pear': 22, 'Pepper Green': 23, 'Pepper Red': 24, 'Pineapple': 25, 'Plum': 26, 'Pomegranate': 27, 'Potato Red': 28, 'Raspberry': 29, 'Strawberry': 30, 'Tomato': 31, 'Watermelon': 32}\n"
     ]
    }
   ],
   "source": [
    "fruit_map = dict(zip(Name, [t for t in range(len(Name))]))\n",
    "print(fruit_map)\n",
    "r_fruit_map=dict(zip([t for t in range(len(Name))],Name)) "
   ]
  },
  {
   "cell_type": "code",
   "execution_count": 6,
   "id": "a8404b33",
   "metadata": {},
   "outputs": [
    {
     "data": {
      "text/plain": [
       "33"
      ]
     },
     "execution_count": 6,
     "metadata": {},
     "output_type": "execute_result"
    }
   ],
   "source": [
    "len(fruit_map)"
   ]
  },
  {
   "cell_type": "code",
   "execution_count": 7,
   "id": "9228eeb1",
   "metadata": {},
   "outputs": [],
   "source": [
    "def mapper(value):\n",
    "    return r_fruit_map[value]"
   ]
  },
  {
   "cell_type": "code",
   "execution_count": 8,
   "id": "39c69f5e",
   "metadata": {},
   "outputs": [],
   "source": [
    "img_datagen = ImageDataGenerator(rescale=1./255,\n",
    "                                vertical_flip=True,\n",
    "                                horizontal_flip=True,\n",
    "                                rotation_range=40,\n",
    "                                width_shift_range=0.2,\n",
    "                                height_shift_range=0.2,\n",
    "                                zoom_range=0.1,\n",
    "                                validation_split=0.2)"
   ]
  },
  {
   "cell_type": "code",
   "execution_count": 9,
   "id": "3605d475",
   "metadata": {},
   "outputs": [],
   "source": [
    "test_datagen = ImageDataGenerator(rescale=1./255)"
   ]
  },
  {
   "cell_type": "code",
   "execution_count": 10,
   "id": "146be99b",
   "metadata": {},
   "outputs": [
    {
     "name": "stdout",
     "output_type": "stream",
     "text": [
      "Found 13309 images belonging to 33 classes.\n"
     ]
    }
   ],
   "source": [
    "train_generator = img_datagen.flow_from_directory(directory,\n",
    "                                                 shuffle=True,\n",
    "                                                 batch_size=32,\n",
    "                                                 subset='training',\n",
    "                                                 target_size=(100, 100))"
   ]
  },
  {
   "cell_type": "code",
   "execution_count": 11,
   "id": "40f3327c",
   "metadata": {},
   "outputs": [
    {
     "name": "stdout",
     "output_type": "stream",
     "text": [
      "Found 3314 images belonging to 33 classes.\n"
     ]
    }
   ],
   "source": [
    "valid_generator = img_datagen.flow_from_directory(directory,\n",
    "                                                 shuffle=True,\n",
    "                                                 batch_size=16,\n",
    "                                                 subset='validation',\n",
    "                                                 target_size=(100, 100))"
   ]
  },
  {
   "cell_type": "code",
   "execution_count": 12,
   "id": "e138fb85",
   "metadata": {},
   "outputs": [
    {
     "name": "stdout",
     "output_type": "stream",
     "text": [
      "Model: \"sequential\"\n",
      "_________________________________________________________________\n",
      " Layer (type)                Output Shape              Param #   \n",
      "=================================================================\n",
      " conv2d (Conv2D)             (None, 100, 100, 32)      896       \n",
      "                                                                 \n",
      " max_pooling2d (MaxPooling2D  (None, 50, 50, 32)       0         \n",
      " )                                                               \n",
      "                                                                 \n",
      " conv2d_1 (Conv2D)           (None, 50, 50, 64)        18496     \n",
      "                                                                 \n",
      " max_pooling2d_1 (MaxPooling  (None, 25, 25, 64)       0         \n",
      " 2D)                                                             \n",
      "                                                                 \n",
      " conv2d_2 (Conv2D)           (None, 25, 25, 64)        36928     \n",
      "                                                                 \n",
      " max_pooling2d_2 (MaxPooling  (None, 12, 12, 64)       0         \n",
      " 2D)                                                             \n",
      "                                                                 \n",
      " conv2d_3 (Conv2D)           (None, 12, 12, 64)        36928     \n",
      "                                                                 \n",
      " max_pooling2d_3 (MaxPooling  (None, 6, 6, 64)         0         \n",
      " 2D)                                                             \n",
      "                                                                 \n",
      " conv2d_4 (Conv2D)           (None, 6, 6, 64)          36928     \n",
      "                                                                 \n",
      " max_pooling2d_4 (MaxPooling  (None, 3, 3, 64)         0         \n",
      " 2D)                                                             \n",
      "                                                                 \n",
      " conv2d_5 (Conv2D)           (None, 3, 3, 64)          36928     \n",
      "                                                                 \n",
      " max_pooling2d_5 (MaxPooling  (None, 1, 1, 64)         0         \n",
      " 2D)                                                             \n",
      "                                                                 \n",
      " flatten (Flatten)           (None, 64)                0         \n",
      "                                                                 \n",
      " dense (Dense)               (None, 256)               16640     \n",
      "                                                                 \n",
      " activation (Activation)     (None, 256)               0         \n",
      "                                                                 \n",
      " dropout (Dropout)           (None, 256)               0         \n",
      "                                                                 \n",
      " dense_1 (Dense)             (None, 33)                8481      \n",
      "                                                                 \n",
      " activation_1 (Activation)   (None, 33)                0         \n",
      "                                                                 \n",
      "=================================================================\n",
      "Total params: 192,225\n",
      "Trainable params: 192,225\n",
      "Non-trainable params: 0\n",
      "_________________________________________________________________\n"
     ]
    }
   ],
   "source": [
    "from tensorflow.keras.models import Sequential\n",
    "from tensorflow.keras.layers import Dense,Conv2D,MaxPooling2D,Dropout,Flatten,Activation,BatchNormalization\n",
    "from tensorflow.keras.models import model_from_json\n",
    "from tensorflow.keras.models import load_model\n",
    "model = Sequential()\n",
    "model.add(Conv2D(filters=32, kernel_size=(3,3),input_shape=(100,100,3), activation='relu', padding = 'same'))\n",
    "model.add(MaxPooling2D(pool_size=(2, 2)))\n",
    "\n",
    "model.add(Conv2D(filters=64, kernel_size=(3,3), activation='relu', padding = 'same'))\n",
    "model.add(MaxPooling2D(pool_size=(2, 2)))\n",
    "\n",
    "model.add(Conv2D(filters=64, kernel_size=(3,3), activation='relu', padding = 'same'))\n",
    "model.add(MaxPooling2D(pool_size=(2, 2)))\n",
    "\n",
    "model.add(Conv2D(filters=64, kernel_size=(3,3), activation='relu', padding = 'same'))\n",
    "model.add(MaxPooling2D(pool_size=(2, 2)))\n",
    "\n",
    "model.add(Conv2D(filters=64, kernel_size=(3,3), activation='relu', padding = 'same'))\n",
    "model.add(MaxPooling2D(pool_size=(2, 2)))\n",
    "\n",
    "model.add(Conv2D(filters=64, kernel_size=(3,3), activation='relu', padding = 'same'))\n",
    "model.add(MaxPooling2D(pool_size=(2, 2)))\n",
    "\n",
    "model.add(Flatten())\n",
    "\n",
    "model.add(Dense(256))\n",
    "model.add(Activation('relu'))\n",
    "model.add(Dropout(0.5))\n",
    "\n",
    "model.add(Dense(len(fruit_map)))\n",
    "model.add(Activation('softmax'))\n",
    "\n",
    "model.summary()"
   ]
  },
  {
   "cell_type": "code",
   "execution_count": 13,
   "id": "7eebc815",
   "metadata": {},
   "outputs": [],
   "source": [
    "model.compile(optimizer='adam',\n",
    "             loss='categorical_crossentropy',\n",
    "             metrics=['accuracy'])\n"
   ]
  },
  {
   "cell_type": "code",
   "execution_count": 14,
   "id": "8a80b94f",
   "metadata": {
    "scrolled": true
   },
   "outputs": [
    {
     "name": "stdout",
     "output_type": "stream",
     "text": [
      "Epoch 1/10\n",
      "415/415 [==============================] - 460s 1s/step - loss: 2.5306 - accuracy: 0.1925 - val_loss: 1.8867 - val_accuracy: 0.3122\n",
      "Epoch 2/10\n",
      "415/415 [==============================] - 177s 426ms/step - loss: 1.3210 - accuracy: 0.5098 - val_loss: 0.6680 - val_accuracy: 0.7497\n",
      "Epoch 3/10\n",
      "415/415 [==============================] - 172s 415ms/step - loss: 0.6355 - accuracy: 0.7647 - val_loss: 0.3328 - val_accuracy: 0.8892\n",
      "Epoch 4/10\n",
      "415/415 [==============================] - 172s 414ms/step - loss: 0.4080 - accuracy: 0.8552 - val_loss: 0.2375 - val_accuracy: 0.9200\n",
      "Epoch 5/10\n",
      "415/415 [==============================] - 176s 424ms/step - loss: 0.2632 - accuracy: 0.9070 - val_loss: 0.1455 - val_accuracy: 0.9514\n",
      "Epoch 6/10\n",
      "415/415 [==============================] - 174s 420ms/step - loss: 0.1971 - accuracy: 0.9319 - val_loss: 0.0880 - val_accuracy: 0.9680\n",
      "Epoch 7/10\n",
      "415/415 [==============================] - 208s 500ms/step - loss: 0.1792 - accuracy: 0.9388 - val_loss: 0.1117 - val_accuracy: 0.9607\n",
      "Epoch 8/10\n",
      "415/415 [==============================] - 171s 413ms/step - loss: 0.1765 - accuracy: 0.9450 - val_loss: 0.0843 - val_accuracy: 0.9707\n",
      "Epoch 9/10\n",
      "415/415 [==============================] - 172s 414ms/step - loss: 0.1398 - accuracy: 0.9535 - val_loss: 0.1065 - val_accuracy: 0.9626\n",
      "Epoch 10/10\n",
      "415/415 [==============================] - 172s 415ms/step - loss: 0.1245 - accuracy: 0.9593 - val_loss: 0.0549 - val_accuracy: 0.9813\n"
     ]
    }
   ],
   "source": [
    "history = model.fit(train_generator, validation_data=valid_generator,\n",
    "                   steps_per_epoch=train_generator.n//train_generator.batch_size,\n",
    "                   validation_steps=valid_generator.n//valid_generator.batch_size,\n",
    "                   epochs=10)"
   ]
  },
  {
   "cell_type": "code",
   "execution_count": 15,
   "id": "5b8c5b9a",
   "metadata": {},
   "outputs": [
    {
     "data": {
      "image/png": "[encoded data removed]",
      "text/plain": [
       "<Figure size 432x288 with 1 Axes>"
      ]
     },
     "metadata": {
      "needs_background": "light"
     },
     "output_type": "display_data"
    },
    {
     "data": {
      "image/png": "[encoded data removed]",
      "text/plain": [
       "<Figure size 432x288 with 1 Axes>"
      ]
     },
     "metadata": {
      "needs_background": "light"
     },
     "output_type": "display_data"
    }
   ],
   "source": [
    "plt.plot(history.history['loss'])\n",
    "plt.plot(history.history['val_loss'])\n",
    "plt.xlabel('Epoch')\n",
    "plt.ylabel('Loss')\n",
    "plt.title('Training and validation loss')\n",
    "plt.show()\n",
    "\n",
    "plt.plot(history.history['accuracy'])\n",
    "plt.plot(history.history['val_accuracy'])\n",
    "plt.xlabel('Epoch')\n",
    "plt.ylabel('Accuracy')\n",
    "plt.title('Training and validation accuracy')\n",
    "plt.show()"
   ]
  },
  {
   "cell_type": "code",
   "execution_count": 30,
   "id": "deef3ca4",
   "metadata": {},
   "outputs": [
    {
     "data": {
      "image/png": "[encoded data removed]",
      "text/plain": [
       "<PIL.Image.Image image mode=RGB size=180x180 at 0x27900548070>"
      ]
     },
     "execution_count": 30,
     "metadata": {},
     "output_type": "execute_result"
    }
   ],
   "source": [
    "load_img(\"fruits/test/test/0084.jpg\",target_size=(180,180))"
   ]
  },
  {
   "cell_type": "code",
   "execution_count": 31,
   "id": "94504f82",
   "metadata": {},
   "outputs": [],
   "source": [
    "image=load_img(\"fruits/test/test/0084.jpg\",target_size=(100,100))\n",
    "\n",
    "image=img_to_array(image) \n",
    "image=image/255.0\n",
    "prediction_image=np.array(image)\n",
    "prediction_image= np.expand_dims(image, axis=0)"
   ]
  },
  {
   "cell_type": "code",
   "execution_count": 32,
   "id": "abf3a2e2",
   "metadata": {},
   "outputs": [
    {
     "name": "stdout",
     "output_type": "stream",
     "text": [
      "Prediction is Apple Braeburn.\n"
     ]
    }
   ],
   "source": [
    "prediction=model.predict(prediction_image)\n",
    "value=np.argmax(prediction)\n",
    "move_name=mapper(value)\n",
    "print(\"Prediction is {}.\".format(move_name))"
   ]
  },
  {
   "cell_type": "code",
   "execution_count": 20,
   "id": "8fee05ba",
   "metadata": {},
   "outputs": [],
   "source": [
    "model.save(\"fruits.h5\")"
   ]
  },
  {
   "cell_type": "code",
   "execution_count": null,
   "id": "f16b0296",
   "metadata": {},
   "outputs": [],
   "source": []
  }
 ],
 "metadata": {
  "kernelspec": {
   "display_name": "Python 3 (ipykernel)",
   "language": "python",
   "name": "python3"
  },
  "language_info": {
   "codemirror_mode": {
    "name": "ipython",
    "version": 3
   },
   "file_extension": ".py",
   "mimetype": "text/x-python",
   "name": "python",
   "nbconvert_exporter": "python",
   "pygments_lexer": "ipython3",
   "version": "3.9.7"
  }
 },
 "nbformat": 4,
 "nbformat_minor": 5
}
